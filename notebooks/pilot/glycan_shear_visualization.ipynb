{
 "cells": [
  {
   "cell_type": "code",
   "execution_count": 13,
   "metadata": {
    "collapsed": false
   },
   "outputs": [
    {
     "name": "stderr",
     "output_type": "stream",
     "text": [
      "WARNING:rosetta:Invalid PYROSETTA_DATABASE environment variable was specified: /Users/jadolfbr/Documents/PyRosetta/PyRosetta_namespace/database\n"
     ]
    }
   ],
   "source": [
    "#This simple app is just visualize a glycan shear mover.\n",
    "\n",
    "#PyRosetta-4\n",
    "\n",
    "import sys\n",
    "from rosetta import *\n",
    "from pyrosetta import *\n",
    "\n",
    "#Carbohydrates\n",
    "from rosetta.protocols.carbohydrates import *\n",
    "from rosetta.core.pose.carbohydrates import *\n",
    "\n",
    "init(\"-ignore_unrecognized_res -include_sugars\", notebook = True)\n",
    "\n",
    "if sys.argv[1] == '--help':\n",
    "    print \"Usage: python glycan_shear_visualization.py glycan_file glycan_residue\"\n",
    "\n",
    "\n",
    "pml_mover = PyMolMover()"
   ]
  },
  {
   "cell_type": "code",
   "execution_count": 14,
   "metadata": {
    "collapsed": true
   },
   "outputs": [],
   "source": [
    "pml_mover.keep_history(True)\n",
    "pml_mover.apply(p)\n"
   ]
  },
  {
   "cell_type": "code",
   "execution_count": 16,
   "metadata": {
    "collapsed": false
   },
   "outputs": [],
   "source": [
    "for delta in range(10, 180, 10):\n",
    "    p = pose_from_pdb(\"../../testing/9_mer_linear_glycan_test_0001.pdb\")\n",
    "    p.set_phi(2, p.phi(2)+delta)\n",
    "    #pml_mover.apply(p)\n",
    "    p.dump_pdb(\"post_shear_\"+str(delta)+\"_1.pdb\")\n",
    "    p.set_psi(2, p.psi(2)-delta)\n",
    "    #pml_mover.apply(p)\n",
    "    p.dump_pdb(\"post_shear_\"+str(delta)+\"_2.pdb\")"
   ]
  },
  {
   "cell_type": "code",
   "execution_count": 21,
   "metadata": {
    "collapsed": false
   },
   "outputs": [],
   "source": [
    "p2 = pose_from_pdb(\"pareto_original_0003.pdb\")\n",
    "for delta in range(15, 90, 15):\n",
    "    p = p2.clone()\n",
    "    p.set_phi(996, p.phi(996)+delta)\n",
    "    p.dump_pdb(\"post_shear_omega_\"+str(delta)+\"_1.pdb\")\n",
    "    p.set_psi(996, p.psi(996)+delta)\n",
    "    p.dump_pdb(\"post_shear_omega_\"+str(delta)+\"_2.pdb\")\n",
    "    p.set_omega(996, p.omega(996)+delta)\n",
    "    p.dump_pdb(\"post_shear_omega_\"+str(delta)+\"_3.pdb\")"
   ]
  },
  {
   "cell_type": "code",
   "execution_count": 22,
   "metadata": {
    "collapsed": true
   },
   "outputs": [],
   "source": [
    "p2 = pose_from_pdb(\"pareto_original_0003.pdb\")\n",
    "for delta in range(15, 90, 15):\n",
    "    p = p2.clone()\n",
    "    p.set_phi(992, p.phi(992)+delta)\n",
    "    p.dump_pdb(\"post_shear_asn_\"+str(delta)+\"_1.pdb\")\n",
    "    p.set_psi(992, p.psi(992)+delta)\n",
    "    p.dump_pdb(\"post_shear_asn_\"+str(delta)+\"_2.pdb\")"
   ]
  },
  {
   "cell_type": "code",
   "execution_count": 23,
   "metadata": {
    "collapsed": true
   },
   "outputs": [],
   "source": [
    "p2 = pose_from_pdb(\"pareto_original_0003.pdb\")\n",
    "for delta in range(15, 90, 15):\n",
    "    p = p2.clone()\n",
    "    p.set_phi(993, p.phi(993)+delta)\n",
    "    p.dump_pdb(\"post_shear_993_\"+str(delta)+\"_1.pdb\")\n",
    "    p.set_psi(993, p.psi(993)+delta)\n",
    "    p.dump_pdb(\"post_shear_993_\"+str(delta)+\"_2.pdb\")"
   ]
  },
  {
   "cell_type": "code",
   "execution_count": null,
   "metadata": {
    "collapsed": true
   },
   "outputs": [],
   "source": []
  }
 ],
 "metadata": {
  "kernelspec": {
   "display_name": "Python 2",
   "language": "python",
   "name": "python2"
  },
  "language_info": {
   "codemirror_mode": {
    "name": "ipython",
    "version": 2
   },
   "file_extension": ".py",
   "mimetype": "text/x-python",
   "name": "python",
   "nbconvert_exporter": "python",
   "pygments_lexer": "ipython2",
   "version": "2.7.10"
  }
 },
 "nbformat": 4,
 "nbformat_minor": 0
}
